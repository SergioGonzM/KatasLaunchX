{
 "cells": [
  {
   "cell_type": "markdown",
   "metadata": {},
   "source": [
    "## Ejercicio 1"
   ]
  },
  {
   "cell_type": "code",
   "execution_count": 5,
   "metadata": {},
   "outputs": [
    {
     "name": "stdout",
     "output_type": "stream",
     "text": [
      "¡Advertencia! Un asteroide se acerca\n"
     ]
    }
   ],
   "source": [
    "vel = 49\n",
    "if vel > 25:\n",
    "    print(\"¡Advertencia! Un asteroide se acerca\")\n",
    "else:\n",
    "    print(\"Estas a salvo, agradecido con el de arriba\")"
   ]
  },
  {
   "cell_type": "markdown",
   "metadata": {},
   "source": [
    "## Ejercicio 2"
   ]
  },
  {
   "cell_type": "code",
   "execution_count": 6,
   "metadata": {},
   "outputs": [
    {
     "name": "stdout",
     "output_type": "stream",
     "text": [
      "No vas a ver la luz pero si te aplastara el asteroide\n"
     ]
    }
   ],
   "source": [
    "vel = 19 \n",
    "if vel > 20:\n",
    "    print(\"Mira al cielo! Podras ver un rayo de luz\")\n",
    "elif vel == 20:\n",
    "    print(\"Un asteroide se acerca! Pero no podras ver el rayo de luz\")\n",
    "else:\n",
    "    print(\"No vas a ver la luz pero si te aplastara el asteroide\")"
   ]
  },
  {
   "cell_type": "markdown",
   "metadata": {},
   "source": [
    "## Ejercicio 3"
   ]
  },
  {
   "cell_type": "code",
   "execution_count": 1,
   "metadata": {},
   "outputs": [
    {
     "name": "stdout",
     "output_type": "stream",
     "text": [
      "Corre por tu vida, un asteroide se acerca\n"
     ]
    }
   ],
   "source": [
    "vel = 26\n",
    "tam = 30\n",
    "\n",
    "if vel >= 25 and tam >= 25:\n",
    "    print(\"Corre por tu vida, un asteroide se acerca\")\n",
    "elif vel > 25 and tam < 25:\n",
    "    print(\"No hay ningun peligro, el asteroide es muy pequeño\")\n",
    "elif vel > 20 and tam < 25: \n",
    "    print(\"Mira al cielo! Podras ver un rayo de luz y estas a salvo\")\n",
    "elif vel < 20 and tam >= 25:\n",
    "    print(\"Mira al cielo! No hay ningun rayo de luz pero te aplastara un asteroide\")\n",
    "else:\n",
    "    print(\"No hay ningun peligro\")"
   ]
  }
 ],
 "metadata": {
  "interpreter": {
   "hash": "04635d289a519a1410467dd0afb0db42f9184808881ca68b2eb5a687a20a5a94"
  },
  "kernelspec": {
   "display_name": "Python 3.7.0 64-bit",
   "language": "python",
   "name": "python3"
  },
  "language_info": {
   "codemirror_mode": {
    "name": "ipython",
    "version": 3
   },
   "file_extension": ".py",
   "mimetype": "text/x-python",
   "name": "python",
   "nbconvert_exporter": "python",
   "pygments_lexer": "ipython3",
   "version": "3.7.0"
  },
  "orig_nbformat": 4
 },
 "nbformat": 4,
 "nbformat_minor": 2
}
