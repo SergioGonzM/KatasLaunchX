{
 "cells": [
  {
   "cell_type": "markdown",
   "metadata": {},
   "source": [
    "## Ejercicio 1"
   ]
  },
  {
   "cell_type": "code",
   "execution_count": 12,
   "metadata": {},
   "outputs": [
    {
     "name": "stdout",
     "output_type": "stream",
     "text": [
      "La distancia entre el planeta Tierra y Jupiter es de: 628949330 kilometros\n",
      "La distancia entre el planeta Tierra y Jupiter es de: 390577533.93 millas\n"
     ]
    }
   ],
   "source": [
    "Tierra= 149597870 #km\n",
    "Jupiter = 778547200 #km\n",
    "\n",
    "distancia = abs(Tierra -Jupiter)\n",
    "\n",
    "d_millas = distancia * 0.621\n",
    "\n",
    "distancia_en_km = f'La distancia entre el planeta Tierra y Jupiter es de: {distancia} kilometros'\n",
    "distancia_en_millas= f'La distancia entre el planeta Tierra y Jupiter es de: {d_millas} millas'\n",
    "\n",
    "print(distancia_en_km)\n",
    "print(distancia_en_millas)"
   ]
  },
  {
   "cell_type": "markdown",
   "metadata": {},
   "source": [
    "## Ejercicio 2"
   ]
  },
  {
   "cell_type": "code",
   "execution_count": 13,
   "metadata": {},
   "outputs": [
    {
     "name": "stdout",
     "output_type": "stream",
     "text": [
      "La distancia entre el planeta 1 y el planeta 2 es de: 300 kilometros\n",
      "La distancia entre el planeta 1 y el planeta 2 es de: 186.3 millas\n"
     ]
    }
   ],
   "source": [
    "distancia1 = int(input(\"Ingresa la distancia 1: \"))\n",
    "distancia2 = int(input(\"Ingresa la distancia 2: \"))\n",
    "\n",
    "distancia_total = abs (distancia1-distancia2)\n",
    "distancia_total_millas = distancia_total*0.621\n",
    "\n",
    "d_en_km = f'La distancia entre el planeta 1 y el planeta 2 es de: {distancia_total} kilometros'\n",
    "d_en_millas= f'La distancia entre el planeta 1 y el planeta 2 es de: {distancia_total_millas} millas'\n",
    "\n",
    "print(d_en_km)\n",
    "print(d_en_millas)\n"
   ]
  }
 ],
 "metadata": {
  "interpreter": {
   "hash": "04635d289a519a1410467dd0afb0db42f9184808881ca68b2eb5a687a20a5a94"
  },
  "kernelspec": {
   "display_name": "Python 3.7.0 64-bit",
   "language": "python",
   "name": "python3"
  },
  "language_info": {
   "codemirror_mode": {
    "name": "ipython",
    "version": 3
   },
   "file_extension": ".py",
   "mimetype": "text/x-python",
   "name": "python",
   "nbconvert_exporter": "python",
   "pygments_lexer": "ipython3",
   "version": "3.7.0"
  },
  "orig_nbformat": 4
 },
 "nbformat": 4,
 "nbformat_minor": 2
}
